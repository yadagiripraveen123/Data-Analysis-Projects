{
 "cells": [
  {
   "cell_type": "code",
   "execution_count": 1,
   "id": "f0283862",
   "metadata": {
    "ExecuteTime": {
     "end_time": "2023-03-30T11:30:31.522262Z",
     "start_time": "2023-03-30T11:30:31.055334Z"
    }
   },
   "outputs": [],
   "source": [
    "# Importing the Libraries\n",
    "import numpy as np\n",
    "import pandas as pd\n",
    "import datetime as dt\n",
    "import warnings\n",
    "warnings.filterwarnings('ignore')\n",
    "\n",
    "from IPython.core.interactiveshell import InteractiveShell\n",
    "InteractiveShell.ast_node_interactivity = 'all'"
   ]
  },
  {
   "cell_type": "code",
   "execution_count": 2,
   "id": "ac2c51b3",
   "metadata": {
    "ExecuteTime": {
     "end_time": "2023-03-30T11:30:31.560151Z",
     "start_time": "2023-03-30T11:30:31.525768Z"
    }
   },
   "outputs": [],
   "source": [
    "data = pd.read_csv(r\"D:\\Data\\diminos_data.csv\")"
   ]
  },
  {
   "cell_type": "code",
   "execution_count": 3,
   "id": "56ee3693",
   "metadata": {
    "ExecuteTime": {
     "end_time": "2023-03-30T11:30:31.876653Z",
     "start_time": "2023-03-30T11:30:31.846275Z"
    }
   },
   "outputs": [
    {
     "data": {
      "text/html": [
       "<div>\n",
       "<style scoped>\n",
       "    .dataframe tbody tr th:only-of-type {\n",
       "        vertical-align: middle;\n",
       "    }\n",
       "\n",
       "    .dataframe tbody tr th {\n",
       "        vertical-align: top;\n",
       "    }\n",
       "\n",
       "    .dataframe thead th {\n",
       "        text-align: right;\n",
       "    }\n",
       "</style>\n",
       "<table border=\"1\" class=\"dataframe\">\n",
       "  <thead>\n",
       "    <tr style=\"text-align: right;\">\n",
       "      <th></th>\n",
       "      <th>order_id</th>\n",
       "      <th>order_placed_at</th>\n",
       "      <th>order_delivered_at</th>\n",
       "    </tr>\n",
       "  </thead>\n",
       "  <tbody>\n",
       "    <tr>\n",
       "      <th>0</th>\n",
       "      <td>1523111</td>\n",
       "      <td>2023-03-01 00:00:59</td>\n",
       "      <td>2023-03-01 00:18:07.443132</td>\n",
       "    </tr>\n",
       "    <tr>\n",
       "      <th>1</th>\n",
       "      <td>1523112</td>\n",
       "      <td>2023-03-01 00:03:59</td>\n",
       "      <td>2023-03-01 00:19:34.925241</td>\n",
       "    </tr>\n",
       "    <tr>\n",
       "      <th>2</th>\n",
       "      <td>1523113</td>\n",
       "      <td>2023-03-01 00:07:22</td>\n",
       "      <td>2023-03-01 00:22:28.291385</td>\n",
       "    </tr>\n",
       "    <tr>\n",
       "      <th>3</th>\n",
       "      <td>1523114</td>\n",
       "      <td>2023-03-01 00:07:47</td>\n",
       "      <td>2023-03-01 00:46:19.019399</td>\n",
       "    </tr>\n",
       "    <tr>\n",
       "      <th>4</th>\n",
       "      <td>1523115</td>\n",
       "      <td>2023-03-01 00:09:03</td>\n",
       "      <td>2023-03-01 00:25:13.619056</td>\n",
       "    </tr>\n",
       "    <tr>\n",
       "      <th>...</th>\n",
       "      <td>...</td>\n",
       "      <td>...</td>\n",
       "      <td>...</td>\n",
       "    </tr>\n",
       "    <tr>\n",
       "      <th>14995</th>\n",
       "      <td>1538106</td>\n",
       "      <td>2023-03-27 23:37:05</td>\n",
       "      <td>2023-03-27 23:52:37.409378</td>\n",
       "    </tr>\n",
       "    <tr>\n",
       "      <th>14996</th>\n",
       "      <td>1538107</td>\n",
       "      <td>2023-03-27 23:47:38</td>\n",
       "      <td>2023-03-28 00:04:22.672912</td>\n",
       "    </tr>\n",
       "    <tr>\n",
       "      <th>14997</th>\n",
       "      <td>1538108</td>\n",
       "      <td>2023-03-27 23:50:16</td>\n",
       "      <td>2023-03-28 00:05:40.676238</td>\n",
       "    </tr>\n",
       "    <tr>\n",
       "      <th>14998</th>\n",
       "      <td>1538109</td>\n",
       "      <td>2023-03-27 23:52:44</td>\n",
       "      <td>2023-03-28 00:08:41.810358</td>\n",
       "    </tr>\n",
       "    <tr>\n",
       "      <th>14999</th>\n",
       "      <td>1538110</td>\n",
       "      <td>2023-03-27 23:58:20</td>\n",
       "      <td>2023-03-28 00:13:42.499311</td>\n",
       "    </tr>\n",
       "  </tbody>\n",
       "</table>\n",
       "<p>15000 rows × 3 columns</p>\n",
       "</div>"
      ],
      "text/plain": [
       "       order_id      order_placed_at          order_delivered_at\n",
       "0       1523111  2023-03-01 00:00:59  2023-03-01 00:18:07.443132\n",
       "1       1523112  2023-03-01 00:03:59  2023-03-01 00:19:34.925241\n",
       "2       1523113  2023-03-01 00:07:22  2023-03-01 00:22:28.291385\n",
       "3       1523114  2023-03-01 00:07:47  2023-03-01 00:46:19.019399\n",
       "4       1523115  2023-03-01 00:09:03  2023-03-01 00:25:13.619056\n",
       "...         ...                  ...                         ...\n",
       "14995   1538106  2023-03-27 23:37:05  2023-03-27 23:52:37.409378\n",
       "14996   1538107  2023-03-27 23:47:38  2023-03-28 00:04:22.672912\n",
       "14997   1538108  2023-03-27 23:50:16  2023-03-28 00:05:40.676238\n",
       "14998   1538109  2023-03-27 23:52:44  2023-03-28 00:08:41.810358\n",
       "14999   1538110  2023-03-27 23:58:20  2023-03-28 00:13:42.499311\n",
       "\n",
       "[15000 rows x 3 columns]"
      ]
     },
     "execution_count": 3,
     "metadata": {},
     "output_type": "execute_result"
    }
   ],
   "source": [
    "data"
   ]
  },
  {
   "cell_type": "code",
   "execution_count": 4,
   "id": "ec83c57d",
   "metadata": {
    "ExecuteTime": {
     "end_time": "2023-03-30T11:30:32.263672Z",
     "start_time": "2023-03-30T11:30:32.242214Z"
    }
   },
   "outputs": [
    {
     "data": {
      "text/plain": [
       "(15000, 3)"
      ]
     },
     "execution_count": 4,
     "metadata": {},
     "output_type": "execute_result"
    },
    {
     "name": "stdout",
     "output_type": "stream",
     "text": [
      "<class 'pandas.core.frame.DataFrame'>\n",
      "RangeIndex: 15000 entries, 0 to 14999\n",
      "Data columns (total 3 columns):\n",
      " #   Column              Non-Null Count  Dtype \n",
      "---  ------              --------------  ----- \n",
      " 0   order_id            15000 non-null  int64 \n",
      " 1   order_placed_at     15000 non-null  object\n",
      " 2   order_delivered_at  15000 non-null  object\n",
      "dtypes: int64(1), object(2)\n",
      "memory usage: 351.7+ KB\n"
     ]
    }
   ],
   "source": [
    "data.shape\n",
    "data.info()"
   ]
  },
  {
   "cell_type": "markdown",
   "id": "a88af055",
   "metadata": {},
   "source": [
    "### Converting the dtypes of the columns"
   ]
  },
  {
   "cell_type": "code",
   "execution_count": 5,
   "id": "bf2a0435",
   "metadata": {
    "ExecuteTime": {
     "end_time": "2023-03-30T11:30:33.195065Z",
     "start_time": "2023-03-30T11:30:33.160475Z"
    }
   },
   "outputs": [],
   "source": [
    "data.order_placed_at=pd.to_datetime(data.order_placed_at,format='%Y/%m/%d %H:%M:%S')\n",
    "data.order_delivered_at=pd.to_datetime(data.order_delivered_at,format='%Y/%m/%d %H:%M:%S')"
   ]
  },
  {
   "cell_type": "code",
   "execution_count": 6,
   "id": "f29f7616",
   "metadata": {
    "ExecuteTime": {
     "end_time": "2023-03-30T11:30:33.608465Z",
     "start_time": "2023-03-30T11:30:33.578179Z"
    }
   },
   "outputs": [
    {
     "name": "stdout",
     "output_type": "stream",
     "text": [
      "<class 'pandas.core.frame.DataFrame'>\n",
      "RangeIndex: 15000 entries, 0 to 14999\n",
      "Data columns (total 3 columns):\n",
      " #   Column              Non-Null Count  Dtype         \n",
      "---  ------              --------------  -----         \n",
      " 0   order_id            15000 non-null  int64         \n",
      " 1   order_placed_at     15000 non-null  datetime64[ns]\n",
      " 2   order_delivered_at  15000 non-null  datetime64[ns]\n",
      "dtypes: datetime64[ns](2), int64(1)\n",
      "memory usage: 351.7 KB\n"
     ]
    }
   ],
   "source": [
    "data.info()"
   ]
  },
  {
   "cell_type": "code",
   "execution_count": 7,
   "id": "c4afe46c",
   "metadata": {
    "ExecuteTime": {
     "end_time": "2023-03-30T11:30:33.974205Z",
     "start_time": "2023-03-30T11:30:33.957678Z"
    }
   },
   "outputs": [],
   "source": [
    "data['day'] = data.order_delivered_at.dt.day_name()"
   ]
  },
  {
   "cell_type": "code",
   "execution_count": 8,
   "id": "789af7b8",
   "metadata": {
    "ExecuteTime": {
     "end_time": "2023-03-30T11:30:34.372270Z",
     "start_time": "2023-03-30T11:30:34.341988Z"
    }
   },
   "outputs": [],
   "source": [
    "data['placed_time'] = data.order_placed_at.dt.minute\n",
    "data['order_time'] = data.order_delivered_at.dt.minute\n",
    "data['month'] = data.order_placed_at.dt.month\n",
    "data['day_of_the_month'] = data.order_delivered_at.dt.day\n",
    "data['hours'] = data.order_placed_at.dt.hour\n",
    "data['total_seconds'] = data.order_delivered_at.dt.second"
   ]
  },
  {
   "cell_type": "code",
   "execution_count": 9,
   "id": "07f2dfcb",
   "metadata": {
    "ExecuteTime": {
     "end_time": "2023-03-30T11:30:34.721876Z",
     "start_time": "2023-03-30T11:30:34.706822Z"
    }
   },
   "outputs": [],
   "source": [
    "data['delivery_in_time']=(data[\"order_delivered_at\"]-data[\"order_placed_at\"]).dt.total_seconds()/60"
   ]
  },
  {
   "cell_type": "code",
   "execution_count": 10,
   "id": "e8b2a767",
   "metadata": {
    "ExecuteTime": {
     "end_time": "2023-03-30T11:30:35.154052Z",
     "start_time": "2023-03-30T11:30:35.123035Z"
    }
   },
   "outputs": [
    {
     "data": {
      "text/html": [
       "<div>\n",
       "<style scoped>\n",
       "    .dataframe tbody tr th:only-of-type {\n",
       "        vertical-align: middle;\n",
       "    }\n",
       "\n",
       "    .dataframe tbody tr th {\n",
       "        vertical-align: top;\n",
       "    }\n",
       "\n",
       "    .dataframe thead th {\n",
       "        text-align: right;\n",
       "    }\n",
       "</style>\n",
       "<table border=\"1\" class=\"dataframe\">\n",
       "  <thead>\n",
       "    <tr style=\"text-align: right;\">\n",
       "      <th></th>\n",
       "      <th>order_id</th>\n",
       "      <th>order_placed_at</th>\n",
       "      <th>order_delivered_at</th>\n",
       "      <th>day</th>\n",
       "      <th>placed_time</th>\n",
       "      <th>order_time</th>\n",
       "      <th>month</th>\n",
       "      <th>day_of_the_month</th>\n",
       "      <th>hours</th>\n",
       "      <th>total_seconds</th>\n",
       "      <th>delivery_in_time</th>\n",
       "    </tr>\n",
       "  </thead>\n",
       "  <tbody>\n",
       "    <tr>\n",
       "      <th>0</th>\n",
       "      <td>1523111</td>\n",
       "      <td>2023-03-01 00:00:59</td>\n",
       "      <td>2023-03-01 00:18:07.443132</td>\n",
       "      <td>Wednesday</td>\n",
       "      <td>0</td>\n",
       "      <td>18</td>\n",
       "      <td>3</td>\n",
       "      <td>1</td>\n",
       "      <td>0</td>\n",
       "      <td>7</td>\n",
       "      <td>17.140719</td>\n",
       "    </tr>\n",
       "    <tr>\n",
       "      <th>1</th>\n",
       "      <td>1523112</td>\n",
       "      <td>2023-03-01 00:03:59</td>\n",
       "      <td>2023-03-01 00:19:34.925241</td>\n",
       "      <td>Wednesday</td>\n",
       "      <td>3</td>\n",
       "      <td>19</td>\n",
       "      <td>3</td>\n",
       "      <td>1</td>\n",
       "      <td>0</td>\n",
       "      <td>34</td>\n",
       "      <td>15.598754</td>\n",
       "    </tr>\n",
       "    <tr>\n",
       "      <th>2</th>\n",
       "      <td>1523113</td>\n",
       "      <td>2023-03-01 00:07:22</td>\n",
       "      <td>2023-03-01 00:22:28.291385</td>\n",
       "      <td>Wednesday</td>\n",
       "      <td>7</td>\n",
       "      <td>22</td>\n",
       "      <td>3</td>\n",
       "      <td>1</td>\n",
       "      <td>0</td>\n",
       "      <td>28</td>\n",
       "      <td>15.104856</td>\n",
       "    </tr>\n",
       "    <tr>\n",
       "      <th>3</th>\n",
       "      <td>1523114</td>\n",
       "      <td>2023-03-01 00:07:47</td>\n",
       "      <td>2023-03-01 00:46:19.019399</td>\n",
       "      <td>Wednesday</td>\n",
       "      <td>7</td>\n",
       "      <td>46</td>\n",
       "      <td>3</td>\n",
       "      <td>1</td>\n",
       "      <td>0</td>\n",
       "      <td>19</td>\n",
       "      <td>38.533657</td>\n",
       "    </tr>\n",
       "    <tr>\n",
       "      <th>4</th>\n",
       "      <td>1523115</td>\n",
       "      <td>2023-03-01 00:09:03</td>\n",
       "      <td>2023-03-01 00:25:13.619056</td>\n",
       "      <td>Wednesday</td>\n",
       "      <td>9</td>\n",
       "      <td>25</td>\n",
       "      <td>3</td>\n",
       "      <td>1</td>\n",
       "      <td>0</td>\n",
       "      <td>13</td>\n",
       "      <td>16.176984</td>\n",
       "    </tr>\n",
       "    <tr>\n",
       "      <th>...</th>\n",
       "      <td>...</td>\n",
       "      <td>...</td>\n",
       "      <td>...</td>\n",
       "      <td>...</td>\n",
       "      <td>...</td>\n",
       "      <td>...</td>\n",
       "      <td>...</td>\n",
       "      <td>...</td>\n",
       "      <td>...</td>\n",
       "      <td>...</td>\n",
       "      <td>...</td>\n",
       "    </tr>\n",
       "    <tr>\n",
       "      <th>14995</th>\n",
       "      <td>1538106</td>\n",
       "      <td>2023-03-27 23:37:05</td>\n",
       "      <td>2023-03-27 23:52:37.409378</td>\n",
       "      <td>Monday</td>\n",
       "      <td>37</td>\n",
       "      <td>52</td>\n",
       "      <td>3</td>\n",
       "      <td>27</td>\n",
       "      <td>23</td>\n",
       "      <td>37</td>\n",
       "      <td>15.540156</td>\n",
       "    </tr>\n",
       "    <tr>\n",
       "      <th>14996</th>\n",
       "      <td>1538107</td>\n",
       "      <td>2023-03-27 23:47:38</td>\n",
       "      <td>2023-03-28 00:04:22.672912</td>\n",
       "      <td>Tuesday</td>\n",
       "      <td>47</td>\n",
       "      <td>4</td>\n",
       "      <td>3</td>\n",
       "      <td>28</td>\n",
       "      <td>23</td>\n",
       "      <td>22</td>\n",
       "      <td>16.744549</td>\n",
       "    </tr>\n",
       "    <tr>\n",
       "      <th>14997</th>\n",
       "      <td>1538108</td>\n",
       "      <td>2023-03-27 23:50:16</td>\n",
       "      <td>2023-03-28 00:05:40.676238</td>\n",
       "      <td>Tuesday</td>\n",
       "      <td>50</td>\n",
       "      <td>5</td>\n",
       "      <td>3</td>\n",
       "      <td>28</td>\n",
       "      <td>23</td>\n",
       "      <td>40</td>\n",
       "      <td>15.411271</td>\n",
       "    </tr>\n",
       "    <tr>\n",
       "      <th>14998</th>\n",
       "      <td>1538109</td>\n",
       "      <td>2023-03-27 23:52:44</td>\n",
       "      <td>2023-03-28 00:08:41.810358</td>\n",
       "      <td>Tuesday</td>\n",
       "      <td>52</td>\n",
       "      <td>8</td>\n",
       "      <td>3</td>\n",
       "      <td>28</td>\n",
       "      <td>23</td>\n",
       "      <td>41</td>\n",
       "      <td>15.963506</td>\n",
       "    </tr>\n",
       "    <tr>\n",
       "      <th>14999</th>\n",
       "      <td>1538110</td>\n",
       "      <td>2023-03-27 23:58:20</td>\n",
       "      <td>2023-03-28 00:13:42.499311</td>\n",
       "      <td>Tuesday</td>\n",
       "      <td>58</td>\n",
       "      <td>13</td>\n",
       "      <td>3</td>\n",
       "      <td>28</td>\n",
       "      <td>23</td>\n",
       "      <td>42</td>\n",
       "      <td>15.374989</td>\n",
       "    </tr>\n",
       "  </tbody>\n",
       "</table>\n",
       "<p>15000 rows × 11 columns</p>\n",
       "</div>"
      ],
      "text/plain": [
       "       order_id     order_placed_at         order_delivered_at        day  \\\n",
       "0       1523111 2023-03-01 00:00:59 2023-03-01 00:18:07.443132  Wednesday   \n",
       "1       1523112 2023-03-01 00:03:59 2023-03-01 00:19:34.925241  Wednesday   \n",
       "2       1523113 2023-03-01 00:07:22 2023-03-01 00:22:28.291385  Wednesday   \n",
       "3       1523114 2023-03-01 00:07:47 2023-03-01 00:46:19.019399  Wednesday   \n",
       "4       1523115 2023-03-01 00:09:03 2023-03-01 00:25:13.619056  Wednesday   \n",
       "...         ...                 ...                        ...        ...   \n",
       "14995   1538106 2023-03-27 23:37:05 2023-03-27 23:52:37.409378     Monday   \n",
       "14996   1538107 2023-03-27 23:47:38 2023-03-28 00:04:22.672912    Tuesday   \n",
       "14997   1538108 2023-03-27 23:50:16 2023-03-28 00:05:40.676238    Tuesday   \n",
       "14998   1538109 2023-03-27 23:52:44 2023-03-28 00:08:41.810358    Tuesday   \n",
       "14999   1538110 2023-03-27 23:58:20 2023-03-28 00:13:42.499311    Tuesday   \n",
       "\n",
       "       placed_time  order_time  month  day_of_the_month  hours  total_seconds  \\\n",
       "0                0          18      3                 1      0              7   \n",
       "1                3          19      3                 1      0             34   \n",
       "2                7          22      3                 1      0             28   \n",
       "3                7          46      3                 1      0             19   \n",
       "4                9          25      3                 1      0             13   \n",
       "...            ...         ...    ...               ...    ...            ...   \n",
       "14995           37          52      3                27     23             37   \n",
       "14996           47           4      3                28     23             22   \n",
       "14997           50           5      3                28     23             40   \n",
       "14998           52           8      3                28     23             41   \n",
       "14999           58          13      3                28     23             42   \n",
       "\n",
       "       delivery_in_time  \n",
       "0             17.140719  \n",
       "1             15.598754  \n",
       "2             15.104856  \n",
       "3             38.533657  \n",
       "4             16.176984  \n",
       "...                 ...  \n",
       "14995         15.540156  \n",
       "14996         16.744549  \n",
       "14997         15.411271  \n",
       "14998         15.963506  \n",
       "14999         15.374989  \n",
       "\n",
       "[15000 rows x 11 columns]"
      ]
     },
     "execution_count": 10,
     "metadata": {},
     "output_type": "execute_result"
    }
   ],
   "source": [
    "data"
   ]
  },
  {
   "cell_type": "code",
   "execution_count": 11,
   "id": "a6b08925",
   "metadata": {
    "ExecuteTime": {
     "end_time": "2023-03-30T11:30:35.509493Z",
     "start_time": "2023-03-30T11:30:35.494358Z"
    }
   },
   "outputs": [],
   "source": [
    "data['delivery_time'] = abs(data.order_time - data.placed_time)"
   ]
  },
  {
   "cell_type": "code",
   "execution_count": 12,
   "id": "6e2db6ed",
   "metadata": {
    "ExecuteTime": {
     "end_time": "2023-03-30T11:30:35.937428Z",
     "start_time": "2023-03-30T11:30:35.907389Z"
    }
   },
   "outputs": [
    {
     "data": {
      "text/html": [
       "<div>\n",
       "<style scoped>\n",
       "    .dataframe tbody tr th:only-of-type {\n",
       "        vertical-align: middle;\n",
       "    }\n",
       "\n",
       "    .dataframe tbody tr th {\n",
       "        vertical-align: top;\n",
       "    }\n",
       "\n",
       "    .dataframe thead th {\n",
       "        text-align: right;\n",
       "    }\n",
       "</style>\n",
       "<table border=\"1\" class=\"dataframe\">\n",
       "  <thead>\n",
       "    <tr style=\"text-align: right;\">\n",
       "      <th></th>\n",
       "      <th>order_id</th>\n",
       "      <th>order_placed_at</th>\n",
       "      <th>order_delivered_at</th>\n",
       "      <th>day</th>\n",
       "      <th>placed_time</th>\n",
       "      <th>order_time</th>\n",
       "      <th>month</th>\n",
       "      <th>day_of_the_month</th>\n",
       "      <th>hours</th>\n",
       "      <th>total_seconds</th>\n",
       "      <th>delivery_in_time</th>\n",
       "      <th>delivery_time</th>\n",
       "    </tr>\n",
       "  </thead>\n",
       "  <tbody>\n",
       "    <tr>\n",
       "      <th>0</th>\n",
       "      <td>1523111</td>\n",
       "      <td>2023-03-01 00:00:59</td>\n",
       "      <td>2023-03-01 00:18:07.443132</td>\n",
       "      <td>Wednesday</td>\n",
       "      <td>0</td>\n",
       "      <td>18</td>\n",
       "      <td>3</td>\n",
       "      <td>1</td>\n",
       "      <td>0</td>\n",
       "      <td>7</td>\n",
       "      <td>17.140719</td>\n",
       "      <td>18</td>\n",
       "    </tr>\n",
       "    <tr>\n",
       "      <th>1</th>\n",
       "      <td>1523112</td>\n",
       "      <td>2023-03-01 00:03:59</td>\n",
       "      <td>2023-03-01 00:19:34.925241</td>\n",
       "      <td>Wednesday</td>\n",
       "      <td>3</td>\n",
       "      <td>19</td>\n",
       "      <td>3</td>\n",
       "      <td>1</td>\n",
       "      <td>0</td>\n",
       "      <td>34</td>\n",
       "      <td>15.598754</td>\n",
       "      <td>16</td>\n",
       "    </tr>\n",
       "    <tr>\n",
       "      <th>2</th>\n",
       "      <td>1523113</td>\n",
       "      <td>2023-03-01 00:07:22</td>\n",
       "      <td>2023-03-01 00:22:28.291385</td>\n",
       "      <td>Wednesday</td>\n",
       "      <td>7</td>\n",
       "      <td>22</td>\n",
       "      <td>3</td>\n",
       "      <td>1</td>\n",
       "      <td>0</td>\n",
       "      <td>28</td>\n",
       "      <td>15.104856</td>\n",
       "      <td>15</td>\n",
       "    </tr>\n",
       "    <tr>\n",
       "      <th>3</th>\n",
       "      <td>1523114</td>\n",
       "      <td>2023-03-01 00:07:47</td>\n",
       "      <td>2023-03-01 00:46:19.019399</td>\n",
       "      <td>Wednesday</td>\n",
       "      <td>7</td>\n",
       "      <td>46</td>\n",
       "      <td>3</td>\n",
       "      <td>1</td>\n",
       "      <td>0</td>\n",
       "      <td>19</td>\n",
       "      <td>38.533657</td>\n",
       "      <td>39</td>\n",
       "    </tr>\n",
       "    <tr>\n",
       "      <th>4</th>\n",
       "      <td>1523115</td>\n",
       "      <td>2023-03-01 00:09:03</td>\n",
       "      <td>2023-03-01 00:25:13.619056</td>\n",
       "      <td>Wednesday</td>\n",
       "      <td>9</td>\n",
       "      <td>25</td>\n",
       "      <td>3</td>\n",
       "      <td>1</td>\n",
       "      <td>0</td>\n",
       "      <td>13</td>\n",
       "      <td>16.176984</td>\n",
       "      <td>16</td>\n",
       "    </tr>\n",
       "    <tr>\n",
       "      <th>...</th>\n",
       "      <td>...</td>\n",
       "      <td>...</td>\n",
       "      <td>...</td>\n",
       "      <td>...</td>\n",
       "      <td>...</td>\n",
       "      <td>...</td>\n",
       "      <td>...</td>\n",
       "      <td>...</td>\n",
       "      <td>...</td>\n",
       "      <td>...</td>\n",
       "      <td>...</td>\n",
       "      <td>...</td>\n",
       "    </tr>\n",
       "    <tr>\n",
       "      <th>14995</th>\n",
       "      <td>1538106</td>\n",
       "      <td>2023-03-27 23:37:05</td>\n",
       "      <td>2023-03-27 23:52:37.409378</td>\n",
       "      <td>Monday</td>\n",
       "      <td>37</td>\n",
       "      <td>52</td>\n",
       "      <td>3</td>\n",
       "      <td>27</td>\n",
       "      <td>23</td>\n",
       "      <td>37</td>\n",
       "      <td>15.540156</td>\n",
       "      <td>15</td>\n",
       "    </tr>\n",
       "    <tr>\n",
       "      <th>14996</th>\n",
       "      <td>1538107</td>\n",
       "      <td>2023-03-27 23:47:38</td>\n",
       "      <td>2023-03-28 00:04:22.672912</td>\n",
       "      <td>Tuesday</td>\n",
       "      <td>47</td>\n",
       "      <td>4</td>\n",
       "      <td>3</td>\n",
       "      <td>28</td>\n",
       "      <td>23</td>\n",
       "      <td>22</td>\n",
       "      <td>16.744549</td>\n",
       "      <td>43</td>\n",
       "    </tr>\n",
       "    <tr>\n",
       "      <th>14997</th>\n",
       "      <td>1538108</td>\n",
       "      <td>2023-03-27 23:50:16</td>\n",
       "      <td>2023-03-28 00:05:40.676238</td>\n",
       "      <td>Tuesday</td>\n",
       "      <td>50</td>\n",
       "      <td>5</td>\n",
       "      <td>3</td>\n",
       "      <td>28</td>\n",
       "      <td>23</td>\n",
       "      <td>40</td>\n",
       "      <td>15.411271</td>\n",
       "      <td>45</td>\n",
       "    </tr>\n",
       "    <tr>\n",
       "      <th>14998</th>\n",
       "      <td>1538109</td>\n",
       "      <td>2023-03-27 23:52:44</td>\n",
       "      <td>2023-03-28 00:08:41.810358</td>\n",
       "      <td>Tuesday</td>\n",
       "      <td>52</td>\n",
       "      <td>8</td>\n",
       "      <td>3</td>\n",
       "      <td>28</td>\n",
       "      <td>23</td>\n",
       "      <td>41</td>\n",
       "      <td>15.963506</td>\n",
       "      <td>44</td>\n",
       "    </tr>\n",
       "    <tr>\n",
       "      <th>14999</th>\n",
       "      <td>1538110</td>\n",
       "      <td>2023-03-27 23:58:20</td>\n",
       "      <td>2023-03-28 00:13:42.499311</td>\n",
       "      <td>Tuesday</td>\n",
       "      <td>58</td>\n",
       "      <td>13</td>\n",
       "      <td>3</td>\n",
       "      <td>28</td>\n",
       "      <td>23</td>\n",
       "      <td>42</td>\n",
       "      <td>15.374989</td>\n",
       "      <td>45</td>\n",
       "    </tr>\n",
       "  </tbody>\n",
       "</table>\n",
       "<p>15000 rows × 12 columns</p>\n",
       "</div>"
      ],
      "text/plain": [
       "       order_id     order_placed_at         order_delivered_at        day  \\\n",
       "0       1523111 2023-03-01 00:00:59 2023-03-01 00:18:07.443132  Wednesday   \n",
       "1       1523112 2023-03-01 00:03:59 2023-03-01 00:19:34.925241  Wednesday   \n",
       "2       1523113 2023-03-01 00:07:22 2023-03-01 00:22:28.291385  Wednesday   \n",
       "3       1523114 2023-03-01 00:07:47 2023-03-01 00:46:19.019399  Wednesday   \n",
       "4       1523115 2023-03-01 00:09:03 2023-03-01 00:25:13.619056  Wednesday   \n",
       "...         ...                 ...                        ...        ...   \n",
       "14995   1538106 2023-03-27 23:37:05 2023-03-27 23:52:37.409378     Monday   \n",
       "14996   1538107 2023-03-27 23:47:38 2023-03-28 00:04:22.672912    Tuesday   \n",
       "14997   1538108 2023-03-27 23:50:16 2023-03-28 00:05:40.676238    Tuesday   \n",
       "14998   1538109 2023-03-27 23:52:44 2023-03-28 00:08:41.810358    Tuesday   \n",
       "14999   1538110 2023-03-27 23:58:20 2023-03-28 00:13:42.499311    Tuesday   \n",
       "\n",
       "       placed_time  order_time  month  day_of_the_month  hours  total_seconds  \\\n",
       "0                0          18      3                 1      0              7   \n",
       "1                3          19      3                 1      0             34   \n",
       "2                7          22      3                 1      0             28   \n",
       "3                7          46      3                 1      0             19   \n",
       "4                9          25      3                 1      0             13   \n",
       "...            ...         ...    ...               ...    ...            ...   \n",
       "14995           37          52      3                27     23             37   \n",
       "14996           47           4      3                28     23             22   \n",
       "14997           50           5      3                28     23             40   \n",
       "14998           52           8      3                28     23             41   \n",
       "14999           58          13      3                28     23             42   \n",
       "\n",
       "       delivery_in_time  delivery_time  \n",
       "0             17.140719             18  \n",
       "1             15.598754             16  \n",
       "2             15.104856             15  \n",
       "3             38.533657             39  \n",
       "4             16.176984             16  \n",
       "...                 ...            ...  \n",
       "14995         15.540156             15  \n",
       "14996         16.744549             43  \n",
       "14997         15.411271             45  \n",
       "14998         15.963506             44  \n",
       "14999         15.374989             45  \n",
       "\n",
       "[15000 rows x 12 columns]"
      ]
     },
     "execution_count": 12,
     "metadata": {},
     "output_type": "execute_result"
    }
   ],
   "source": [
    "data"
   ]
  },
  {
   "cell_type": "code",
   "execution_count": 13,
   "id": "ddd23907",
   "metadata": {
    "ExecuteTime": {
     "end_time": "2023-03-30T11:30:36.324059Z",
     "start_time": "2023-03-30T11:30:36.307580Z"
    }
   },
   "outputs": [
    {
     "name": "stdout",
     "output_type": "stream",
     "text": [
      "<class 'pandas.core.frame.DataFrame'>\n",
      "RangeIndex: 15000 entries, 0 to 14999\n",
      "Data columns (total 12 columns):\n",
      " #   Column              Non-Null Count  Dtype         \n",
      "---  ------              --------------  -----         \n",
      " 0   order_id            15000 non-null  int64         \n",
      " 1   order_placed_at     15000 non-null  datetime64[ns]\n",
      " 2   order_delivered_at  15000 non-null  datetime64[ns]\n",
      " 3   day                 15000 non-null  object        \n",
      " 4   placed_time         15000 non-null  int64         \n",
      " 5   order_time          15000 non-null  int64         \n",
      " 6   month               15000 non-null  int64         \n",
      " 7   day_of_the_month    15000 non-null  int64         \n",
      " 8   hours               15000 non-null  int64         \n",
      " 9   total_seconds       15000 non-null  int64         \n",
      " 10  delivery_in_time    15000 non-null  float64       \n",
      " 11  delivery_time       15000 non-null  int64         \n",
      "dtypes: datetime64[ns](2), float64(1), int64(8), object(1)\n",
      "memory usage: 1.4+ MB\n"
     ]
    }
   ],
   "source": [
    "data.info()"
   ]
  },
  {
   "cell_type": "markdown",
   "id": "2be89fef",
   "metadata": {},
   "source": [
    "### Descriptive statistics"
   ]
  },
  {
   "cell_type": "code",
   "execution_count": 14,
   "id": "92d8b09d",
   "metadata": {
    "ExecuteTime": {
     "end_time": "2023-03-30T11:30:37.108988Z",
     "start_time": "2023-03-30T11:30:37.068299Z"
    }
   },
   "outputs": [
    {
     "data": {
      "text/html": [
       "<div>\n",
       "<style scoped>\n",
       "    .dataframe tbody tr th:only-of-type {\n",
       "        vertical-align: middle;\n",
       "    }\n",
       "\n",
       "    .dataframe tbody tr th {\n",
       "        vertical-align: top;\n",
       "    }\n",
       "\n",
       "    .dataframe thead th {\n",
       "        text-align: right;\n",
       "    }\n",
       "</style>\n",
       "<table border=\"1\" class=\"dataframe\">\n",
       "  <thead>\n",
       "    <tr style=\"text-align: right;\">\n",
       "      <th></th>\n",
       "      <th>order_id</th>\n",
       "      <th>placed_time</th>\n",
       "      <th>order_time</th>\n",
       "      <th>month</th>\n",
       "      <th>day_of_the_month</th>\n",
       "      <th>hours</th>\n",
       "      <th>total_seconds</th>\n",
       "      <th>delivery_in_time</th>\n",
       "      <th>delivery_time</th>\n",
       "    </tr>\n",
       "  </thead>\n",
       "  <tbody>\n",
       "    <tr>\n",
       "      <th>count</th>\n",
       "      <td>1.500000e+04</td>\n",
       "      <td>15000.000000</td>\n",
       "      <td>15000.000000</td>\n",
       "      <td>15000.0</td>\n",
       "      <td>15000.000000</td>\n",
       "      <td>15000.000000</td>\n",
       "      <td>15000.000000</td>\n",
       "      <td>15000.000000</td>\n",
       "      <td>15000.000000</td>\n",
       "    </tr>\n",
       "    <tr>\n",
       "      <th>mean</th>\n",
       "      <td>1.530610e+06</td>\n",
       "      <td>29.324000</td>\n",
       "      <td>29.559333</td>\n",
       "      <td>3.0</td>\n",
       "      <td>13.964533</td>\n",
       "      <td>11.559200</td>\n",
       "      <td>29.398933</td>\n",
       "      <td>20.499389</td>\n",
       "      <td>23.780533</td>\n",
       "    </tr>\n",
       "    <tr>\n",
       "      <th>std</th>\n",
       "      <td>4.330271e+03</td>\n",
       "      <td>17.308948</td>\n",
       "      <td>17.255057</td>\n",
       "      <td>0.0</td>\n",
       "      <td>7.810319</td>\n",
       "      <td>6.948514</td>\n",
       "      <td>17.260106</td>\n",
       "      <td>96.160362</td>\n",
       "      <td>12.080219</td>\n",
       "    </tr>\n",
       "    <tr>\n",
       "      <th>min</th>\n",
       "      <td>1.523111e+06</td>\n",
       "      <td>0.000000</td>\n",
       "      <td>0.000000</td>\n",
       "      <td>3.0</td>\n",
       "      <td>1.000000</td>\n",
       "      <td>0.000000</td>\n",
       "      <td>0.000000</td>\n",
       "      <td>15.000010</td>\n",
       "      <td>0.000000</td>\n",
       "    </tr>\n",
       "    <tr>\n",
       "      <th>25%</th>\n",
       "      <td>1.526861e+06</td>\n",
       "      <td>14.000000</td>\n",
       "      <td>15.000000</td>\n",
       "      <td>3.0</td>\n",
       "      <td>7.000000</td>\n",
       "      <td>6.000000</td>\n",
       "      <td>15.000000</td>\n",
       "      <td>15.274826</td>\n",
       "      <td>15.000000</td>\n",
       "    </tr>\n",
       "    <tr>\n",
       "      <th>50%</th>\n",
       "      <td>1.530610e+06</td>\n",
       "      <td>29.000000</td>\n",
       "      <td>30.000000</td>\n",
       "      <td>3.0</td>\n",
       "      <td>14.000000</td>\n",
       "      <td>12.000000</td>\n",
       "      <td>29.000000</td>\n",
       "      <td>15.797986</td>\n",
       "      <td>16.000000</td>\n",
       "    </tr>\n",
       "    <tr>\n",
       "      <th>75%</th>\n",
       "      <td>1.534360e+06</td>\n",
       "      <td>44.000000</td>\n",
       "      <td>44.000000</td>\n",
       "      <td>3.0</td>\n",
       "      <td>21.000000</td>\n",
       "      <td>18.000000</td>\n",
       "      <td>44.000000</td>\n",
       "      <td>17.279661</td>\n",
       "      <td>38.000000</td>\n",
       "    </tr>\n",
       "    <tr>\n",
       "      <th>max</th>\n",
       "      <td>1.538110e+06</td>\n",
       "      <td>59.000000</td>\n",
       "      <td>59.000000</td>\n",
       "      <td>3.0</td>\n",
       "      <td>29.000000</td>\n",
       "      <td>23.000000</td>\n",
       "      <td>59.000000</td>\n",
       "      <td>7299.831375</td>\n",
       "      <td>56.000000</td>\n",
       "    </tr>\n",
       "  </tbody>\n",
       "</table>\n",
       "</div>"
      ],
      "text/plain": [
       "           order_id   placed_time    order_time    month  day_of_the_month  \\\n",
       "count  1.500000e+04  15000.000000  15000.000000  15000.0      15000.000000   \n",
       "mean   1.530610e+06     29.324000     29.559333      3.0         13.964533   \n",
       "std    4.330271e+03     17.308948     17.255057      0.0          7.810319   \n",
       "min    1.523111e+06      0.000000      0.000000      3.0          1.000000   \n",
       "25%    1.526861e+06     14.000000     15.000000      3.0          7.000000   \n",
       "50%    1.530610e+06     29.000000     30.000000      3.0         14.000000   \n",
       "75%    1.534360e+06     44.000000     44.000000      3.0         21.000000   \n",
       "max    1.538110e+06     59.000000     59.000000      3.0         29.000000   \n",
       "\n",
       "              hours  total_seconds  delivery_in_time  delivery_time  \n",
       "count  15000.000000   15000.000000      15000.000000   15000.000000  \n",
       "mean      11.559200      29.398933         20.499389      23.780533  \n",
       "std        6.948514      17.260106         96.160362      12.080219  \n",
       "min        0.000000       0.000000         15.000010       0.000000  \n",
       "25%        6.000000      15.000000         15.274826      15.000000  \n",
       "50%       12.000000      29.000000         15.797986      16.000000  \n",
       "75%       18.000000      44.000000         17.279661      38.000000  \n",
       "max       23.000000      59.000000       7299.831375      56.000000  "
      ]
     },
     "execution_count": 14,
     "metadata": {},
     "output_type": "execute_result"
    }
   ],
   "source": [
    "data.describe()"
   ]
  },
  {
   "cell_type": "markdown",
   "id": "8c15bfcb",
   "metadata": {},
   "source": [
    "### Insights:\n",
    "1. Minimum order time of the delivery is 23.7 minutes and Maximum order time of the delivery is 56 minutes.\n",
    "2. Average Deliverys of the month are 13.96"
   ]
  },
  {
   "cell_type": "code",
   "execution_count": 15,
   "id": "e11b2288",
   "metadata": {
    "ExecuteTime": {
     "end_time": "2023-03-30T11:30:37.961874Z",
     "start_time": "2023-03-30T11:30:37.944870Z"
    }
   },
   "outputs": [
    {
     "data": {
      "text/plain": [
       "22    595\n",
       "10    594\n",
       "20    590\n",
       "2     586\n",
       "12    581\n",
       "6     579\n",
       "7     579\n",
       "23    579\n",
       "8     575\n",
       "4     568\n",
       "24    567\n",
       "9     562\n",
       "18    558\n",
       "27    553\n",
       "16    548\n",
       "5     547\n",
       "1     546\n",
       "25    545\n",
       "15    542\n",
       "17    538\n",
       "26    535\n",
       "11    533\n",
       "3     530\n",
       "13    529\n",
       "21    526\n",
       "19    524\n",
       "14    486\n",
       "28      4\n",
       "29      1\n",
       "Name: day_of_the_month, dtype: int64"
      ]
     },
     "execution_count": 15,
     "metadata": {},
     "output_type": "execute_result"
    }
   ],
   "source": [
    "data.day_of_the_month.value_counts()"
   ]
  },
  {
   "cell_type": "code",
   "execution_count": 16,
   "id": "6d6c62c2",
   "metadata": {
    "ExecuteTime": {
     "end_time": "2023-03-30T11:30:38.402118Z",
     "start_time": "2023-03-30T11:30:38.371987Z"
    }
   },
   "outputs": [
    {
     "data": {
      "text/plain": [
       "Thursday     0.151667\n",
       "Wednesday    0.150600\n",
       "Monday       0.150067\n",
       "Friday       0.148600\n",
       "Saturday     0.146933\n",
       "Sunday       0.145800\n",
       "Tuesday      0.106333\n",
       "Name: day, dtype: float64"
      ]
     },
     "execution_count": 16,
     "metadata": {},
     "output_type": "execute_result"
    }
   ],
   "source": [
    "data.day.value_counts(normalize=True)"
   ]
  },
  {
   "cell_type": "code",
   "execution_count": 17,
   "id": "0f9b5bfa",
   "metadata": {
    "ExecuteTime": {
     "end_time": "2023-03-30T11:30:38.802541Z",
     "start_time": "2023-03-30T11:30:38.787121Z"
    }
   },
   "outputs": [
    {
     "data": {
      "text/html": [
       "<div>\n",
       "<style scoped>\n",
       "    .dataframe tbody tr th:only-of-type {\n",
       "        vertical-align: middle;\n",
       "    }\n",
       "\n",
       "    .dataframe tbody tr th {\n",
       "        vertical-align: top;\n",
       "    }\n",
       "\n",
       "    .dataframe thead tr th {\n",
       "        text-align: left;\n",
       "    }\n",
       "\n",
       "    .dataframe thead tr:last-of-type th {\n",
       "        text-align: right;\n",
       "    }\n",
       "</style>\n",
       "<table border=\"1\" class=\"dataframe\">\n",
       "  <thead>\n",
       "    <tr>\n",
       "      <th></th>\n",
       "      <th colspan=\"2\" halign=\"left\">delivery_time</th>\n",
       "    </tr>\n",
       "    <tr>\n",
       "      <th></th>\n",
       "      <th>mean</th>\n",
       "      <th>count</th>\n",
       "    </tr>\n",
       "    <tr>\n",
       "      <th>day</th>\n",
       "      <th></th>\n",
       "      <th></th>\n",
       "    </tr>\n",
       "  </thead>\n",
       "  <tbody>\n",
       "    <tr>\n",
       "      <th>Friday</th>\n",
       "      <td>23.969942</td>\n",
       "      <td>2229</td>\n",
       "    </tr>\n",
       "    <tr>\n",
       "      <th>Monday</th>\n",
       "      <td>23.921368</td>\n",
       "      <td>2251</td>\n",
       "    </tr>\n",
       "    <tr>\n",
       "      <th>Saturday</th>\n",
       "      <td>23.802178</td>\n",
       "      <td>2204</td>\n",
       "    </tr>\n",
       "    <tr>\n",
       "      <th>Sunday</th>\n",
       "      <td>23.384088</td>\n",
       "      <td>2187</td>\n",
       "    </tr>\n",
       "    <tr>\n",
       "      <th>Thursday</th>\n",
       "      <td>23.750769</td>\n",
       "      <td>2275</td>\n",
       "    </tr>\n",
       "    <tr>\n",
       "      <th>Tuesday</th>\n",
       "      <td>24.379937</td>\n",
       "      <td>1595</td>\n",
       "    </tr>\n",
       "    <tr>\n",
       "      <th>Wednesday</th>\n",
       "      <td>23.422753</td>\n",
       "      <td>2259</td>\n",
       "    </tr>\n",
       "  </tbody>\n",
       "</table>\n",
       "</div>"
      ],
      "text/plain": [
       "          delivery_time      \n",
       "                   mean count\n",
       "day                          \n",
       "Friday        23.969942  2229\n",
       "Monday        23.921368  2251\n",
       "Saturday      23.802178  2204\n",
       "Sunday        23.384088  2187\n",
       "Thursday      23.750769  2275\n",
       "Tuesday       24.379937  1595\n",
       "Wednesday     23.422753  2259"
      ]
     },
     "execution_count": 17,
     "metadata": {},
     "output_type": "execute_result"
    }
   ],
   "source": [
    "data.groupby(['day']).agg({'delivery_time': ['mean','count']})"
   ]
  },
  {
   "cell_type": "markdown",
   "id": "ebcf2874",
   "metadata": {},
   "source": [
    "### Insights:\n",
    "1. on Tuesday order are less compared to the other days"
   ]
  },
  {
   "cell_type": "code",
   "execution_count": 18,
   "id": "f3dabe05",
   "metadata": {
    "ExecuteTime": {
     "end_time": "2023-03-30T11:30:39.781014Z",
     "start_time": "2023-03-30T11:30:39.767015Z"
    }
   },
   "outputs": [
    {
     "data": {
      "text/plain": [
       "10929"
      ]
     },
     "execution_count": 18,
     "metadata": {},
     "output_type": "execute_result"
    },
    {
     "data": {
      "text/plain": [
       "4071"
      ]
     },
     "execution_count": 18,
     "metadata": {},
     "output_type": "execute_result"
    }
   ],
   "source": [
    "data.delivery_time[data.delivery_time <= 31].count()\n",
    "data.delivery_time[data.delivery_time > 31].count()"
   ]
  },
  {
   "cell_type": "markdown",
   "id": "13abec89",
   "metadata": {},
   "source": [
    "### Insights:\n",
    "1. As we can say that No.of.orders less than 31 minutes are 10929 which is 72.86%.\n",
    "2. 4071 orders are freely delivered."
   ]
  },
  {
   "cell_type": "code",
   "execution_count": 19,
   "id": "15a26097",
   "metadata": {
    "ExecuteTime": {
     "end_time": "2023-03-30T11:30:41.549167Z",
     "start_time": "2023-03-30T11:30:40.606916Z"
    }
   },
   "outputs": [],
   "source": [
    "import matplotlib.pyplot as plt\n",
    "import seaborn as sns\n",
    "\n",
    "# matplotlib style option\n",
    "plt.style.use('fivethirtyeight')"
   ]
  },
  {
   "cell_type": "markdown",
   "id": "b857a6e1",
   "metadata": {},
   "source": [
    "### Identifying the Outliers"
   ]
  },
  {
   "cell_type": "code",
   "execution_count": 20,
   "id": "95be2495",
   "metadata": {
    "ExecuteTime": {
     "end_time": "2023-03-30T11:30:41.684659Z",
     "start_time": "2023-03-30T11:30:41.549167Z"
    },
    "scrolled": false
   },
   "outputs": [
    {
     "data": {
      "image/png": "[encoded data removed]",
      "text/plain": [
       "<Figure size 1000x400 with 1 Axes>"
      ]
     },
     "metadata": {},
     "output_type": "display_data"
    }
   ],
   "source": [
    "plt.figure(figsize=(10,4))\n",
    "sns.boxplot(data.delivery_in_time, orient='h');"
   ]
  },
  {
   "cell_type": "code",
   "execution_count": 21,
   "id": "89ae97e5",
   "metadata": {
    "ExecuteTime": {
     "end_time": "2023-03-30T11:30:41.926256Z",
     "start_time": "2023-03-30T11:30:41.897807Z"
    }
   },
   "outputs": [
    {
     "name": "stdout",
     "output_type": "stream",
     "text": [
      "15.274825995833332 15.797986066666667 17.27966090416667\n",
      "2.0048349083333363 20.286913266666673 12.267573633333328\n"
     ]
    },
    {
     "data": {
      "text/html": [
       "<div>\n",
       "<style scoped>\n",
       "    .dataframe tbody tr th:only-of-type {\n",
       "        vertical-align: middle;\n",
       "    }\n",
       "\n",
       "    .dataframe tbody tr th {\n",
       "        vertical-align: top;\n",
       "    }\n",
       "\n",
       "    .dataframe thead th {\n",
       "        text-align: right;\n",
       "    }\n",
       "</style>\n",
       "<table border=\"1\" class=\"dataframe\">\n",
       "  <thead>\n",
       "    <tr style=\"text-align: right;\">\n",
       "      <th></th>\n",
       "      <th>order_id</th>\n",
       "      <th>order_placed_at</th>\n",
       "      <th>order_delivered_at</th>\n",
       "      <th>day</th>\n",
       "      <th>placed_time</th>\n",
       "      <th>order_time</th>\n",
       "      <th>month</th>\n",
       "      <th>day_of_the_month</th>\n",
       "      <th>hours</th>\n",
       "      <th>total_seconds</th>\n",
       "      <th>delivery_in_time</th>\n",
       "      <th>delivery_time</th>\n",
       "    </tr>\n",
       "  </thead>\n",
       "  <tbody>\n",
       "    <tr>\n",
       "      <th>3</th>\n",
       "      <td>1523114</td>\n",
       "      <td>2023-03-01 00:07:47</td>\n",
       "      <td>2023-03-01 00:46:19.019399</td>\n",
       "      <td>Wednesday</td>\n",
       "      <td>7</td>\n",
       "      <td>46</td>\n",
       "      <td>3</td>\n",
       "      <td>1</td>\n",
       "      <td>0</td>\n",
       "      <td>19</td>\n",
       "      <td>38.533657</td>\n",
       "      <td>39</td>\n",
       "    </tr>\n",
       "    <tr>\n",
       "      <th>6</th>\n",
       "      <td>1523117</td>\n",
       "      <td>2023-03-01 00:11:09</td>\n",
       "      <td>2023-03-01 00:41:54.245295</td>\n",
       "      <td>Wednesday</td>\n",
       "      <td>11</td>\n",
       "      <td>41</td>\n",
       "      <td>3</td>\n",
       "      <td>1</td>\n",
       "      <td>0</td>\n",
       "      <td>54</td>\n",
       "      <td>30.754088</td>\n",
       "      <td>30</td>\n",
       "    </tr>\n",
       "    <tr>\n",
       "      <th>16</th>\n",
       "      <td>1523127</td>\n",
       "      <td>2023-03-01 00:37:10</td>\n",
       "      <td>2023-03-01 01:01:14.587491</td>\n",
       "      <td>Wednesday</td>\n",
       "      <td>37</td>\n",
       "      <td>1</td>\n",
       "      <td>3</td>\n",
       "      <td>1</td>\n",
       "      <td>0</td>\n",
       "      <td>14</td>\n",
       "      <td>24.076458</td>\n",
       "      <td>36</td>\n",
       "    </tr>\n",
       "    <tr>\n",
       "      <th>18</th>\n",
       "      <td>1523129</td>\n",
       "      <td>2023-03-01 00:43:31</td>\n",
       "      <td>2023-03-01 01:03:52.000746</td>\n",
       "      <td>Wednesday</td>\n",
       "      <td>43</td>\n",
       "      <td>3</td>\n",
       "      <td>3</td>\n",
       "      <td>1</td>\n",
       "      <td>0</td>\n",
       "      <td>52</td>\n",
       "      <td>20.350012</td>\n",
       "      <td>40</td>\n",
       "    </tr>\n",
       "    <tr>\n",
       "      <th>24</th>\n",
       "      <td>1523135</td>\n",
       "      <td>2023-03-01 01:11:53</td>\n",
       "      <td>2023-03-01 05:07:54.563978</td>\n",
       "      <td>Wednesday</td>\n",
       "      <td>11</td>\n",
       "      <td>7</td>\n",
       "      <td>3</td>\n",
       "      <td>1</td>\n",
       "      <td>1</td>\n",
       "      <td>54</td>\n",
       "      <td>236.026066</td>\n",
       "      <td>4</td>\n",
       "    </tr>\n",
       "    <tr>\n",
       "      <th>...</th>\n",
       "      <td>...</td>\n",
       "      <td>...</td>\n",
       "      <td>...</td>\n",
       "      <td>...</td>\n",
       "      <td>...</td>\n",
       "      <td>...</td>\n",
       "      <td>...</td>\n",
       "      <td>...</td>\n",
       "      <td>...</td>\n",
       "      <td>...</td>\n",
       "      <td>...</td>\n",
       "      <td>...</td>\n",
       "    </tr>\n",
       "    <tr>\n",
       "      <th>14949</th>\n",
       "      <td>1538060</td>\n",
       "      <td>2023-03-27 21:56:34</td>\n",
       "      <td>2023-03-27 22:21:20.206661</td>\n",
       "      <td>Monday</td>\n",
       "      <td>56</td>\n",
       "      <td>21</td>\n",
       "      <td>3</td>\n",
       "      <td>27</td>\n",
       "      <td>21</td>\n",
       "      <td>20</td>\n",
       "      <td>24.770111</td>\n",
       "      <td>35</td>\n",
       "    </tr>\n",
       "    <tr>\n",
       "      <th>14953</th>\n",
       "      <td>1538064</td>\n",
       "      <td>2023-03-27 22:04:53</td>\n",
       "      <td>2023-03-27 22:55:03.230465</td>\n",
       "      <td>Monday</td>\n",
       "      <td>4</td>\n",
       "      <td>55</td>\n",
       "      <td>3</td>\n",
       "      <td>27</td>\n",
       "      <td>22</td>\n",
       "      <td>3</td>\n",
       "      <td>50.170508</td>\n",
       "      <td>51</td>\n",
       "    </tr>\n",
       "    <tr>\n",
       "      <th>14970</th>\n",
       "      <td>1538081</td>\n",
       "      <td>2023-03-27 22:41:56</td>\n",
       "      <td>2023-03-27 23:09:33.139446</td>\n",
       "      <td>Monday</td>\n",
       "      <td>41</td>\n",
       "      <td>9</td>\n",
       "      <td>3</td>\n",
       "      <td>27</td>\n",
       "      <td>22</td>\n",
       "      <td>33</td>\n",
       "      <td>27.618991</td>\n",
       "      <td>32</td>\n",
       "    </tr>\n",
       "    <tr>\n",
       "      <th>14974</th>\n",
       "      <td>1538085</td>\n",
       "      <td>2023-03-27 22:56:11</td>\n",
       "      <td>2023-03-27 23:18:16.194531</td>\n",
       "      <td>Monday</td>\n",
       "      <td>56</td>\n",
       "      <td>18</td>\n",
       "      <td>3</td>\n",
       "      <td>27</td>\n",
       "      <td>22</td>\n",
       "      <td>16</td>\n",
       "      <td>22.086576</td>\n",
       "      <td>38</td>\n",
       "    </tr>\n",
       "    <tr>\n",
       "      <th>14982</th>\n",
       "      <td>1538093</td>\n",
       "      <td>2023-03-27 23:13:48</td>\n",
       "      <td>2023-03-27 23:37:13.388767</td>\n",
       "      <td>Monday</td>\n",
       "      <td>13</td>\n",
       "      <td>37</td>\n",
       "      <td>3</td>\n",
       "      <td>27</td>\n",
       "      <td>23</td>\n",
       "      <td>13</td>\n",
       "      <td>23.423146</td>\n",
       "      <td>24</td>\n",
       "    </tr>\n",
       "  </tbody>\n",
       "</table>\n",
       "<p>1734 rows × 12 columns</p>\n",
       "</div>"
      ],
      "text/plain": [
       "       order_id     order_placed_at         order_delivered_at        day  \\\n",
       "3       1523114 2023-03-01 00:07:47 2023-03-01 00:46:19.019399  Wednesday   \n",
       "6       1523117 2023-03-01 00:11:09 2023-03-01 00:41:54.245295  Wednesday   \n",
       "16      1523127 2023-03-01 00:37:10 2023-03-01 01:01:14.587491  Wednesday   \n",
       "18      1523129 2023-03-01 00:43:31 2023-03-01 01:03:52.000746  Wednesday   \n",
       "24      1523135 2023-03-01 01:11:53 2023-03-01 05:07:54.563978  Wednesday   \n",
       "...         ...                 ...                        ...        ...   \n",
       "14949   1538060 2023-03-27 21:56:34 2023-03-27 22:21:20.206661     Monday   \n",
       "14953   1538064 2023-03-27 22:04:53 2023-03-27 22:55:03.230465     Monday   \n",
       "14970   1538081 2023-03-27 22:41:56 2023-03-27 23:09:33.139446     Monday   \n",
       "14974   1538085 2023-03-27 22:56:11 2023-03-27 23:18:16.194531     Monday   \n",
       "14982   1538093 2023-03-27 23:13:48 2023-03-27 23:37:13.388767     Monday   \n",
       "\n",
       "       placed_time  order_time  month  day_of_the_month  hours  total_seconds  \\\n",
       "3                7          46      3                 1      0             19   \n",
       "6               11          41      3                 1      0             54   \n",
       "16              37           1      3                 1      0             14   \n",
       "18              43           3      3                 1      0             52   \n",
       "24              11           7      3                 1      1             54   \n",
       "...            ...         ...    ...               ...    ...            ...   \n",
       "14949           56          21      3                27     21             20   \n",
       "14953            4          55      3                27     22              3   \n",
       "14970           41           9      3                27     22             33   \n",
       "14974           56          18      3                27     22             16   \n",
       "14982           13          37      3                27     23             13   \n",
       "\n",
       "       delivery_in_time  delivery_time  \n",
       "3             38.533657             39  \n",
       "6             30.754088             30  \n",
       "16            24.076458             36  \n",
       "18            20.350012             40  \n",
       "24           236.026066              4  \n",
       "...                 ...            ...  \n",
       "14949         24.770111             35  \n",
       "14953         50.170508             51  \n",
       "14970         27.618991             32  \n",
       "14974         22.086576             38  \n",
       "14982         23.423146             24  \n",
       "\n",
       "[1734 rows x 12 columns]"
      ]
     },
     "execution_count": 21,
     "metadata": {},
     "output_type": "execute_result"
    }
   ],
   "source": [
    "Q1,Q2,Q3 = tuple(data.delivery_in_time.quantile(q=[0.25,0.50,0.75]).values)\n",
    "\n",
    "print(Q1,Q2,Q3)\n",
    "\n",
    "IQR = Q3-Q1\n",
    "UL = Q3+1.5*IQR\n",
    "LL = Q1-1.5*IQR\n",
    "\n",
    "print(IQR,UL,LL)\n",
    "\n",
    "data[(data.delivery_in_time < LL) | (data.delivery_in_time > UL)]\n",
    "\n",
    "drop_list = data[(data.delivery_in_time > UL) | (data.delivery_in_time < LL)].index.tolist()\n",
    "\n",
    "data.drop(drop_list, axis=0, inplace=True)"
   ]
  },
  {
   "cell_type": "code",
   "execution_count": 22,
   "id": "6e6e80c9",
   "metadata": {
    "ExecuteTime": {
     "end_time": "2023-03-30T11:30:42.454919Z",
     "start_time": "2023-03-30T11:30:42.430927Z"
    }
   },
   "outputs": [
    {
     "data": {
      "text/html": [
       "<div>\n",
       "<style scoped>\n",
       "    .dataframe tbody tr th:only-of-type {\n",
       "        vertical-align: middle;\n",
       "    }\n",
       "\n",
       "    .dataframe tbody tr th {\n",
       "        vertical-align: top;\n",
       "    }\n",
       "\n",
       "    .dataframe thead th {\n",
       "        text-align: right;\n",
       "    }\n",
       "</style>\n",
       "<table border=\"1\" class=\"dataframe\">\n",
       "  <thead>\n",
       "    <tr style=\"text-align: right;\">\n",
       "      <th></th>\n",
       "      <th>order_id</th>\n",
       "      <th>order_placed_at</th>\n",
       "      <th>order_delivered_at</th>\n",
       "      <th>day</th>\n",
       "      <th>placed_time</th>\n",
       "      <th>order_time</th>\n",
       "      <th>month</th>\n",
       "      <th>day_of_the_month</th>\n",
       "      <th>hours</th>\n",
       "      <th>total_seconds</th>\n",
       "      <th>delivery_in_time</th>\n",
       "      <th>delivery_time</th>\n",
       "    </tr>\n",
       "  </thead>\n",
       "  <tbody>\n",
       "    <tr>\n",
       "      <th>0</th>\n",
       "      <td>1523111</td>\n",
       "      <td>2023-03-01 00:00:59</td>\n",
       "      <td>2023-03-01 00:18:07.443132</td>\n",
       "      <td>Wednesday</td>\n",
       "      <td>0</td>\n",
       "      <td>18</td>\n",
       "      <td>3</td>\n",
       "      <td>1</td>\n",
       "      <td>0</td>\n",
       "      <td>7</td>\n",
       "      <td>17.140719</td>\n",
       "      <td>18</td>\n",
       "    </tr>\n",
       "    <tr>\n",
       "      <th>1</th>\n",
       "      <td>1523112</td>\n",
       "      <td>2023-03-01 00:03:59</td>\n",
       "      <td>2023-03-01 00:19:34.925241</td>\n",
       "      <td>Wednesday</td>\n",
       "      <td>3</td>\n",
       "      <td>19</td>\n",
       "      <td>3</td>\n",
       "      <td>1</td>\n",
       "      <td>0</td>\n",
       "      <td>34</td>\n",
       "      <td>15.598754</td>\n",
       "      <td>16</td>\n",
       "    </tr>\n",
       "    <tr>\n",
       "      <th>2</th>\n",
       "      <td>1523113</td>\n",
       "      <td>2023-03-01 00:07:22</td>\n",
       "      <td>2023-03-01 00:22:28.291385</td>\n",
       "      <td>Wednesday</td>\n",
       "      <td>7</td>\n",
       "      <td>22</td>\n",
       "      <td>3</td>\n",
       "      <td>1</td>\n",
       "      <td>0</td>\n",
       "      <td>28</td>\n",
       "      <td>15.104856</td>\n",
       "      <td>15</td>\n",
       "    </tr>\n",
       "    <tr>\n",
       "      <th>4</th>\n",
       "      <td>1523115</td>\n",
       "      <td>2023-03-01 00:09:03</td>\n",
       "      <td>2023-03-01 00:25:13.619056</td>\n",
       "      <td>Wednesday</td>\n",
       "      <td>9</td>\n",
       "      <td>25</td>\n",
       "      <td>3</td>\n",
       "      <td>1</td>\n",
       "      <td>0</td>\n",
       "      <td>13</td>\n",
       "      <td>16.176984</td>\n",
       "      <td>16</td>\n",
       "    </tr>\n",
       "    <tr>\n",
       "      <th>5</th>\n",
       "      <td>1523116</td>\n",
       "      <td>2023-03-01 00:09:44</td>\n",
       "      <td>2023-03-01 00:25:17.088349</td>\n",
       "      <td>Wednesday</td>\n",
       "      <td>9</td>\n",
       "      <td>25</td>\n",
       "      <td>3</td>\n",
       "      <td>1</td>\n",
       "      <td>0</td>\n",
       "      <td>17</td>\n",
       "      <td>15.551472</td>\n",
       "      <td>16</td>\n",
       "    </tr>\n",
       "    <tr>\n",
       "      <th>...</th>\n",
       "      <td>...</td>\n",
       "      <td>...</td>\n",
       "      <td>...</td>\n",
       "      <td>...</td>\n",
       "      <td>...</td>\n",
       "      <td>...</td>\n",
       "      <td>...</td>\n",
       "      <td>...</td>\n",
       "      <td>...</td>\n",
       "      <td>...</td>\n",
       "      <td>...</td>\n",
       "      <td>...</td>\n",
       "    </tr>\n",
       "    <tr>\n",
       "      <th>14995</th>\n",
       "      <td>1538106</td>\n",
       "      <td>2023-03-27 23:37:05</td>\n",
       "      <td>2023-03-27 23:52:37.409378</td>\n",
       "      <td>Monday</td>\n",
       "      <td>37</td>\n",
       "      <td>52</td>\n",
       "      <td>3</td>\n",
       "      <td>27</td>\n",
       "      <td>23</td>\n",
       "      <td>37</td>\n",
       "      <td>15.540156</td>\n",
       "      <td>15</td>\n",
       "    </tr>\n",
       "    <tr>\n",
       "      <th>14996</th>\n",
       "      <td>1538107</td>\n",
       "      <td>2023-03-27 23:47:38</td>\n",
       "      <td>2023-03-28 00:04:22.672912</td>\n",
       "      <td>Tuesday</td>\n",
       "      <td>47</td>\n",
       "      <td>4</td>\n",
       "      <td>3</td>\n",
       "      <td>28</td>\n",
       "      <td>23</td>\n",
       "      <td>22</td>\n",
       "      <td>16.744549</td>\n",
       "      <td>43</td>\n",
       "    </tr>\n",
       "    <tr>\n",
       "      <th>14997</th>\n",
       "      <td>1538108</td>\n",
       "      <td>2023-03-27 23:50:16</td>\n",
       "      <td>2023-03-28 00:05:40.676238</td>\n",
       "      <td>Tuesday</td>\n",
       "      <td>50</td>\n",
       "      <td>5</td>\n",
       "      <td>3</td>\n",
       "      <td>28</td>\n",
       "      <td>23</td>\n",
       "      <td>40</td>\n",
       "      <td>15.411271</td>\n",
       "      <td>45</td>\n",
       "    </tr>\n",
       "    <tr>\n",
       "      <th>14998</th>\n",
       "      <td>1538109</td>\n",
       "      <td>2023-03-27 23:52:44</td>\n",
       "      <td>2023-03-28 00:08:41.810358</td>\n",
       "      <td>Tuesday</td>\n",
       "      <td>52</td>\n",
       "      <td>8</td>\n",
       "      <td>3</td>\n",
       "      <td>28</td>\n",
       "      <td>23</td>\n",
       "      <td>41</td>\n",
       "      <td>15.963506</td>\n",
       "      <td>44</td>\n",
       "    </tr>\n",
       "    <tr>\n",
       "      <th>14999</th>\n",
       "      <td>1538110</td>\n",
       "      <td>2023-03-27 23:58:20</td>\n",
       "      <td>2023-03-28 00:13:42.499311</td>\n",
       "      <td>Tuesday</td>\n",
       "      <td>58</td>\n",
       "      <td>13</td>\n",
       "      <td>3</td>\n",
       "      <td>28</td>\n",
       "      <td>23</td>\n",
       "      <td>42</td>\n",
       "      <td>15.374989</td>\n",
       "      <td>45</td>\n",
       "    </tr>\n",
       "  </tbody>\n",
       "</table>\n",
       "<p>13266 rows × 12 columns</p>\n",
       "</div>"
      ],
      "text/plain": [
       "       order_id     order_placed_at         order_delivered_at        day  \\\n",
       "0       1523111 2023-03-01 00:00:59 2023-03-01 00:18:07.443132  Wednesday   \n",
       "1       1523112 2023-03-01 00:03:59 2023-03-01 00:19:34.925241  Wednesday   \n",
       "2       1523113 2023-03-01 00:07:22 2023-03-01 00:22:28.291385  Wednesday   \n",
       "4       1523115 2023-03-01 00:09:03 2023-03-01 00:25:13.619056  Wednesday   \n",
       "5       1523116 2023-03-01 00:09:44 2023-03-01 00:25:17.088349  Wednesday   \n",
       "...         ...                 ...                        ...        ...   \n",
       "14995   1538106 2023-03-27 23:37:05 2023-03-27 23:52:37.409378     Monday   \n",
       "14996   1538107 2023-03-27 23:47:38 2023-03-28 00:04:22.672912    Tuesday   \n",
       "14997   1538108 2023-03-27 23:50:16 2023-03-28 00:05:40.676238    Tuesday   \n",
       "14998   1538109 2023-03-27 23:52:44 2023-03-28 00:08:41.810358    Tuesday   \n",
       "14999   1538110 2023-03-27 23:58:20 2023-03-28 00:13:42.499311    Tuesday   \n",
       "\n",
       "       placed_time  order_time  month  day_of_the_month  hours  total_seconds  \\\n",
       "0                0          18      3                 1      0              7   \n",
       "1                3          19      3                 1      0             34   \n",
       "2                7          22      3                 1      0             28   \n",
       "4                9          25      3                 1      0             13   \n",
       "5                9          25      3                 1      0             17   \n",
       "...            ...         ...    ...               ...    ...            ...   \n",
       "14995           37          52      3                27     23             37   \n",
       "14996           47           4      3                28     23             22   \n",
       "14997           50           5      3                28     23             40   \n",
       "14998           52           8      3                28     23             41   \n",
       "14999           58          13      3                28     23             42   \n",
       "\n",
       "       delivery_in_time  delivery_time  \n",
       "0             17.140719             18  \n",
       "1             15.598754             16  \n",
       "2             15.104856             15  \n",
       "4             16.176984             16  \n",
       "5             15.551472             16  \n",
       "...                 ...            ...  \n",
       "14995         15.540156             15  \n",
       "14996         16.744549             43  \n",
       "14997         15.411271             45  \n",
       "14998         15.963506             44  \n",
       "14999         15.374989             45  \n",
       "\n",
       "[13266 rows x 12 columns]"
      ]
     },
     "execution_count": 22,
     "metadata": {},
     "output_type": "execute_result"
    }
   ],
   "source": [
    "data"
   ]
  },
  {
   "cell_type": "markdown",
   "id": "9824afa3",
   "metadata": {},
   "source": [
    "## Analysis"
   ]
  },
  {
   "cell_type": "code",
   "execution_count": 23,
   "id": "8e73b633",
   "metadata": {
    "ExecuteTime": {
     "end_time": "2023-03-30T11:30:48.435515Z",
     "start_time": "2023-03-30T11:30:48.211709Z"
    },
    "scrolled": false
   },
   "outputs": [
    {
     "data": {
      "image/png": "[encoded data removed]",
      "text/plain": [
       "<Figure size 800x400 with 1 Axes>"
      ]
     },
     "metadata": {},
     "output_type": "display_data"
    }
   ],
   "source": [
    "plt.figure(figsize=(8,4))\n",
    "sns.histplot(data.delivery_time, kde=True);"
   ]
  },
  {
   "cell_type": "code",
   "execution_count": 24,
   "id": "57228817",
   "metadata": {
    "ExecuteTime": {
     "end_time": "2023-03-30T11:30:48.713347Z",
     "start_time": "2023-03-30T11:30:48.579934Z"
    }
   },
   "outputs": [
    {
     "data": {
      "image/png": "[encoded data removed]",
      "text/plain": [
       "<Figure size 800x400 with 1 Axes>"
      ]
     },
     "metadata": {},
     "output_type": "display_data"
    }
   ],
   "source": [
    "plt.figure(figsize=(8,4))\n",
    "sns.countplot(x=data.day);"
   ]
  },
  {
   "cell_type": "code",
   "execution_count": 25,
   "id": "b7058b04",
   "metadata": {
    "ExecuteTime": {
     "end_time": "2023-03-30T11:30:49.376047Z",
     "start_time": "2023-03-30T11:30:49.012321Z"
    }
   },
   "outputs": [
    {
     "data": {
      "image/png": "[encoded data removed]",
      "text/plain": [
       "<Figure size 800x400 with 1 Axes>"
      ]
     },
     "metadata": {},
     "output_type": "display_data"
    }
   ],
   "source": [
    "plt.figure(figsize=(8,4))\n",
    "sns.barplot(x=data.hours,y=data.day, ci=False);"
   ]
  },
  {
   "cell_type": "code",
   "execution_count": 26,
   "id": "197fae78",
   "metadata": {
    "ExecuteTime": {
     "end_time": "2023-03-30T11:30:49.617695Z",
     "start_time": "2023-03-30T11:30:49.429677Z"
    }
   },
   "outputs": [
    {
     "data": {
      "image/png": "[encoded data removed]",
      "text/plain": [
       "<Figure size 1200x400 with 1 Axes>"
      ]
     },
     "metadata": {},
     "output_type": "display_data"
    }
   ],
   "source": [
    "plt.figure(figsize=(12,4), dpi = 100)\n",
    "sns.lineplot(x = data.day_of_the_month.value_counts().index,\n",
    "             y = data.day_of_the_month.value_counts().values)\n",
    "plt.title('Count of Orders uploaded day-wise')\n",
    "plt.xlabel('Day',fontsize = 15, color = 'black')\n",
    "plt.ylabel('count',fontsize = 15, color = 'black');"
   ]
  },
  {
   "cell_type": "code",
   "execution_count": 27,
   "id": "531c28bc",
   "metadata": {
    "ExecuteTime": {
     "end_time": "2023-03-30T11:30:50.214069Z",
     "start_time": "2023-03-30T11:30:50.198067Z"
    }
   },
   "outputs": [
    {
     "data": {
      "text/plain": [
       "18.78939552083333"
      ]
     },
     "execution_count": 27,
     "metadata": {},
     "output_type": "execute_result"
    }
   ],
   "source": [
    "np.percentile(data.delivery_in_time,95)"
   ]
  },
  {
   "cell_type": "code",
   "execution_count": 28,
   "id": "ae5fabc0",
   "metadata": {
    "ExecuteTime": {
     "end_time": "2023-03-30T11:39:01.106326Z",
     "start_time": "2023-03-30T11:39:01.098294Z"
    }
   },
   "outputs": [
    {
     "data": {
      "text/plain": [
       "18.78939552083333"
      ]
     },
     "execution_count": 28,
     "metadata": {},
     "output_type": "execute_result"
    }
   ],
   "source": [
    "data.delivery_in_time.quantile(0.95)"
   ]
  },
  {
   "cell_type": "markdown",
   "id": "c3e1dc43",
   "metadata": {},
   "source": [
    "### Insights:\n",
    "1. Maximum order=595\n",
    "2. Minimum order=486 \n",
    "3. Average order =551\n",
    "4. Average delivery time =18.78 min.\n",
    "5. Maximum order on wednesday \n",
    "6. Minimum order on Tuesday"
   ]
  },
  {
   "cell_type": "code",
   "execution_count": null,
   "id": "67ade28a",
   "metadata": {},
   "outputs": [],
   "source": []
  },
  {
   "cell_type": "code",
   "execution_count": null,
   "id": "6b08295b",
   "metadata": {},
   "outputs": [],
   "source": []
  }
 ],
 "metadata": {
  "kernelspec": {
   "display_name": "Python 3 (ipykernel)",
   "language": "python",
   "name": "python3"
  },
  "language_info": {
   "codemirror_mode": {
    "name": "ipython",
    "version": 3
   },
   "file_extension": ".py",
   "mimetype": "text/x-python",
   "name": "python",
   "nbconvert_exporter": "python",
   "pygments_lexer": "ipython3",
   "version": "3.9.12"
  }
 },
 "nbformat": 4,
 "nbformat_minor": 5
}
