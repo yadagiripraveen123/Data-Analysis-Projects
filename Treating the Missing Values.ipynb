{
 "cells": [
  {
   "cell_type": "markdown",
   "id": "588a0059",
   "metadata": {},
   "source": [
    "### Treating missing or null values Techniques:\n",
    "Treating missing values is a critical step in preparing features for model building. Missing values can cause issues with model convergence and bias the results. Several techniques can be employed to handle missing values effectively. The choice of technique depends on the nature of the data and the problem at hand. Here are some commonly used techniques:\n",
    "\n",
    "1. **Deletion**: In some cases, if the proportion of missing values is very small, the simplest approach is to remove the rows or columns with missing values. However, this should be done carefully, as it may lead to a loss of valuable information.\n",
    "\n",
    "2. **Forward Fill/Backward Fill**: In time-series data or ordered data, missing values can be filled using the most recent known value (forward fill) or the next known value (backward fill).\n",
    "\n",
    "3. **Mean/Median/Mode Imputation**: For numerical features with missing values, one common technique is to impute the missing values with the mean, median, or mode of the non-missing values in that feature. This approach is straightforward but may introduce bias.\n",
    "\n",
    "4. **K-Nearest Neighbors (KNN) Imputation**: KNN imputation involves finding the K nearest neighbors of a data point with missing values and using their values to impute the missing ones. This method takes into account the similarity between data points."
   ]
  },
  {
   "cell_type": "code",
   "execution_count": 1,
   "id": "7be98c25",
   "metadata": {
    "ExecuteTime": {
     "end_time": "2023-07-30T13:12:42.631939Z",
     "start_time": "2023-07-30T13:12:42.109797Z"
    }
   },
   "outputs": [],
   "source": [
    "import numpy as np\n",
    "import pandas as pd"
   ]
  },
  {
   "cell_type": "code",
   "execution_count": 2,
   "id": "a97e9fdd",
   "metadata": {
    "ExecuteTime": {
     "end_time": "2023-07-30T13:12:42.678409Z",
     "start_time": "2023-07-30T13:12:42.636952Z"
    }
   },
   "outputs": [],
   "source": [
    "data = pd.read_csv(r\"D:\\Data\\Test.csv\")"
   ]
  },
  {
   "cell_type": "code",
   "execution_count": 3,
   "id": "943b1419",
   "metadata": {
    "ExecuteTime": {
     "end_time": "2023-07-30T13:12:42.852090Z",
     "start_time": "2023-07-30T13:12:42.841850Z"
    }
   },
   "outputs": [
    {
     "data": {
      "text/plain": [
       "(4001, 14)"
      ]
     },
     "execution_count": 3,
     "metadata": {},
     "output_type": "execute_result"
    }
   ],
   "source": [
    "data.shape"
   ]
  },
  {
   "cell_type": "code",
   "execution_count": 4,
   "id": "d7e90bd8",
   "metadata": {
    "ExecuteTime": {
     "end_time": "2023-07-30T13:12:43.256078Z",
     "start_time": "2023-07-30T13:12:43.223742Z"
    }
   },
   "outputs": [
    {
     "data": {
      "text/html": [
       "<div>\n",
       "<style scoped>\n",
       "    .dataframe tbody tr th:only-of-type {\n",
       "        vertical-align: middle;\n",
       "    }\n",
       "\n",
       "    .dataframe tbody tr th {\n",
       "        vertical-align: top;\n",
       "    }\n",
       "\n",
       "    .dataframe thead th {\n",
       "        text-align: right;\n",
       "    }\n",
       "</style>\n",
       "<table border=\"1\" class=\"dataframe\">\n",
       "  <thead>\n",
       "    <tr style=\"text-align: right;\">\n",
       "      <th></th>\n",
       "      <th>customer_id</th>\n",
       "      <th>first_name</th>\n",
       "      <th>last_name</th>\n",
       "      <th>gender</th>\n",
       "      <th>past_3_years_bike_related_purchases</th>\n",
       "      <th>DOB</th>\n",
       "      <th>Today</th>\n",
       "      <th>Age</th>\n",
       "      <th>job_title</th>\n",
       "      <th>job_industry_category</th>\n",
       "      <th>wealth_segment</th>\n",
       "      <th>deceased_indicator</th>\n",
       "      <th>owns_car</th>\n",
       "      <th>tenure</th>\n",
       "    </tr>\n",
       "  </thead>\n",
       "  <tbody>\n",
       "    <tr>\n",
       "      <th>0</th>\n",
       "      <td>1.0</td>\n",
       "      <td>Laraine</td>\n",
       "      <td>Medendorp</td>\n",
       "      <td>Female</td>\n",
       "      <td>93.0</td>\n",
       "      <td>19644</td>\n",
       "      <td>45137</td>\n",
       "      <td>69.0</td>\n",
       "      <td>Executive Secretary</td>\n",
       "      <td>Health</td>\n",
       "      <td>Mass Customer</td>\n",
       "      <td>N</td>\n",
       "      <td>Yes</td>\n",
       "      <td>11.0</td>\n",
       "    </tr>\n",
       "    <tr>\n",
       "      <th>1</th>\n",
       "      <td>2.0</td>\n",
       "      <td>Eli</td>\n",
       "      <td>Bockman</td>\n",
       "      <td>Male</td>\n",
       "      <td>81.0</td>\n",
       "      <td>29571</td>\n",
       "      <td>45137</td>\n",
       "      <td>NaN</td>\n",
       "      <td>Administrative Officer</td>\n",
       "      <td>Financial Services</td>\n",
       "      <td>Mass Customer</td>\n",
       "      <td>N</td>\n",
       "      <td>Yes</td>\n",
       "      <td>16.0</td>\n",
       "    </tr>\n",
       "    <tr>\n",
       "      <th>2</th>\n",
       "      <td>3.0</td>\n",
       "      <td>Arlin</td>\n",
       "      <td>Dearle</td>\n",
       "      <td>Male</td>\n",
       "      <td>61.0</td>\n",
       "      <td>19744</td>\n",
       "      <td>45137</td>\n",
       "      <td>NaN</td>\n",
       "      <td>Recruiting Manager</td>\n",
       "      <td>Property</td>\n",
       "      <td>Mass Customer</td>\n",
       "      <td>N</td>\n",
       "      <td>Yes</td>\n",
       "      <td>15.0</td>\n",
       "    </tr>\n",
       "    <tr>\n",
       "      <th>3</th>\n",
       "      <td>4.0</td>\n",
       "      <td>Talbot</td>\n",
       "      <td>NaN</td>\n",
       "      <td>Male</td>\n",
       "      <td>33.0</td>\n",
       "      <td>22557</td>\n",
       "      <td>45137</td>\n",
       "      <td>NaN</td>\n",
       "      <td>NaN</td>\n",
       "      <td>IT</td>\n",
       "      <td>Mass Customer</td>\n",
       "      <td>N</td>\n",
       "      <td>No</td>\n",
       "      <td>7.0</td>\n",
       "    </tr>\n",
       "    <tr>\n",
       "      <th>4</th>\n",
       "      <td>5.0</td>\n",
       "      <td>Sheila-kathryn</td>\n",
       "      <td>Calton</td>\n",
       "      <td>Female</td>\n",
       "      <td>56.0</td>\n",
       "      <td>28258</td>\n",
       "      <td>45137</td>\n",
       "      <td>NaN</td>\n",
       "      <td>Senior Editor</td>\n",
       "      <td>NaN</td>\n",
       "      <td>Affluent Customer</td>\n",
       "      <td>N</td>\n",
       "      <td>Yes</td>\n",
       "      <td>8.0</td>\n",
       "    </tr>\n",
       "  </tbody>\n",
       "</table>\n",
       "</div>"
      ],
      "text/plain": [
       "   customer_id      first_name  last_name  gender  \\\n",
       "0          1.0         Laraine  Medendorp  Female   \n",
       "1          2.0             Eli    Bockman    Male   \n",
       "2          3.0           Arlin     Dearle    Male   \n",
       "3          4.0          Talbot        NaN    Male   \n",
       "4          5.0  Sheila-kathryn     Calton  Female   \n",
       "\n",
       "   past_3_years_bike_related_purchases    DOB  Today   Age  \\\n",
       "0                                 93.0  19644  45137  69.0   \n",
       "1                                 81.0  29571  45137   NaN   \n",
       "2                                 61.0  19744  45137   NaN   \n",
       "3                                 33.0  22557  45137   NaN   \n",
       "4                                 56.0  28258  45137   NaN   \n",
       "\n",
       "                job_title job_industry_category     wealth_segment  \\\n",
       "0     Executive Secretary                Health      Mass Customer   \n",
       "1  Administrative Officer    Financial Services      Mass Customer   \n",
       "2      Recruiting Manager              Property      Mass Customer   \n",
       "3                     NaN                    IT      Mass Customer   \n",
       "4           Senior Editor                   NaN  Affluent Customer   \n",
       "\n",
       "  deceased_indicator owns_car  tenure  \n",
       "0                  N      Yes    11.0  \n",
       "1                  N      Yes    16.0  \n",
       "2                  N      Yes    15.0  \n",
       "3                  N       No     7.0  \n",
       "4                  N      Yes     8.0  "
      ]
     },
     "execution_count": 4,
     "metadata": {},
     "output_type": "execute_result"
    }
   ],
   "source": [
    "data.head()"
   ]
  },
  {
   "cell_type": "code",
   "execution_count": 5,
   "id": "e99d208a",
   "metadata": {
    "ExecuteTime": {
     "end_time": "2023-07-30T13:12:43.554624Z",
     "start_time": "2023-07-30T13:12:43.523703Z"
    }
   },
   "outputs": [
    {
     "name": "stdout",
     "output_type": "stream",
     "text": [
      "<class 'pandas.core.frame.DataFrame'>\n",
      "RangeIndex: 4001 entries, 0 to 4000\n",
      "Data columns (total 14 columns):\n",
      " #   Column                               Non-Null Count  Dtype  \n",
      "---  ------                               --------------  -----  \n",
      " 0   customer_id                          4000 non-null   float64\n",
      " 1   first_name                           4000 non-null   object \n",
      " 2   last_name                            3875 non-null   object \n",
      " 3   gender                               4000 non-null   object \n",
      " 4   past_3_years_bike_related_purchases  4000 non-null   float64\n",
      " 5   DOB                                  3913 non-null   object \n",
      " 6   Today                                4001 non-null   int64  \n",
      " 7   Age                                  1 non-null      float64\n",
      " 8   job_title                            3494 non-null   object \n",
      " 9   job_industry_category                3344 non-null   object \n",
      " 10  wealth_segment                       4000 non-null   object \n",
      " 11  deceased_indicator                   4000 non-null   object \n",
      " 12  owns_car                             4000 non-null   object \n",
      " 13  tenure                               3913 non-null   float64\n",
      "dtypes: float64(4), int64(1), object(9)\n",
      "memory usage: 437.7+ KB\n"
     ]
    }
   ],
   "source": [
    "data.info()"
   ]
  },
  {
   "cell_type": "markdown",
   "id": "e5d48f45",
   "metadata": {},
   "source": [
    "## *`Checking the null values using isnull() and isna()`*"
   ]
  },
  {
   "cell_type": "code",
   "execution_count": 6,
   "id": "ee641636",
   "metadata": {
    "ExecuteTime": {
     "end_time": "2023-07-30T13:12:44.052685Z",
     "start_time": "2023-07-30T13:12:44.038247Z"
    }
   },
   "outputs": [
    {
     "data": {
      "text/plain": [
       "customer_id                               1\n",
       "first_name                                1\n",
       "last_name                               126\n",
       "gender                                    1\n",
       "past_3_years_bike_related_purchases       1\n",
       "DOB                                      88\n",
       "Today                                     0\n",
       "Age                                    4000\n",
       "job_title                               507\n",
       "job_industry_category                   657\n",
       "wealth_segment                            1\n",
       "deceased_indicator                        1\n",
       "owns_car                                  1\n",
       "tenure                                   88\n",
       "dtype: int64"
      ]
     },
     "execution_count": 6,
     "metadata": {},
     "output_type": "execute_result"
    }
   ],
   "source": [
    "# Checking the null values using isnull().\n",
    "# We can use any options from both either isnull() nor isna().\n",
    "data.isnull().sum()"
   ]
  },
  {
   "cell_type": "code",
   "execution_count": 7,
   "id": "fdbaaa28",
   "metadata": {
    "ExecuteTime": {
     "end_time": "2023-07-30T13:12:44.299865Z",
     "start_time": "2023-07-30T13:12:44.272563Z"
    }
   },
   "outputs": [
    {
     "data": {
      "text/plain": [
       "customer_id                             0.02\n",
       "first_name                              0.02\n",
       "last_name                               3.15\n",
       "gender                                  0.02\n",
       "past_3_years_bike_related_purchases     0.02\n",
       "DOB                                     2.20\n",
       "Today                                   0.00\n",
       "Age                                    99.98\n",
       "job_title                              12.67\n",
       "job_industry_category                  16.42\n",
       "wealth_segment                          0.02\n",
       "deceased_indicator                      0.02\n",
       "owns_car                                0.02\n",
       "tenure                                  2.20\n",
       "dtype: float64"
      ]
     },
     "execution_count": 7,
     "metadata": {},
     "output_type": "execute_result"
    }
   ],
   "source": [
    "# Checking the null values using isna().\n",
    "# Coverting the values into percentage to know null values percentage. \n",
    "round((data.isna().sum()/len(data))*100,2)"
   ]
  },
  {
   "cell_type": "markdown",
   "id": "bea73b96",
   "metadata": {
    "ExecuteTime": {
     "end_time": "2023-07-29T17:16:33.736513Z",
     "start_time": "2023-07-29T17:16:33.721990Z"
    }
   },
   "source": [
    "### 1. Dropping or Deleting missing values\n",
    "* Remove rows having missing values if overall less than 5% of rows are missing in the DataFrame.\n",
    "* Remove the whole column containing missing values - go for this approach if more than 50% of the column data is missing."
   ]
  },
  {
   "cell_type": "markdown",
   "id": "489a3cbf",
   "metadata": {},
   "source": [
    "- **Observe the data there are missing values in every column. we can drop the rows which has less than 5% are null values in the row.**\n",
    "- **In some cases preserving the data is important in that case it is important to fill the null values those cases are when we have less data etc.**\n",
    "- **In the *`Age`* column we have more than 50% of null values. So we can drop the age column we has no information.**"
   ]
  },
  {
   "cell_type": "code",
   "execution_count": 8,
   "id": "05d3a646",
   "metadata": {
    "ExecuteTime": {
     "end_time": "2023-07-30T13:12:45.095384Z",
     "start_time": "2023-07-30T13:12:45.078098Z"
    }
   },
   "outputs": [],
   "source": [
    "data.drop(['Age'], axis=1, inplace=True)"
   ]
  },
  {
   "cell_type": "markdown",
   "id": "a88dfa62",
   "metadata": {},
   "source": [
    "### 2. Forward Fill/Backward Fill:\n",
    "* Forward Fill and Backward Fill are techniques used in data imputation inplace of missing values in the data.\n",
    "* Forward Fill means that the missing values are filled with the previous observation's value.\n",
    "* Backward Fill means that the missing values are filled with the next observation's value.\n",
    "#### Advantages:\n",
    "* FFill and BFill is straightforward to implement and understand. \n",
    "#### Disadvantages:\n",
    "* Inaccurate for some data distributions, data get biased in some cases and It is incorrect in some cases."
   ]
  },
  {
   "cell_type": "code",
   "execution_count": 9,
   "id": "1d9fc791",
   "metadata": {
    "ExecuteTime": {
     "end_time": "2023-07-30T13:12:45.501686Z",
     "start_time": "2023-07-30T13:12:45.481668Z"
    }
   },
   "outputs": [],
   "source": [
    "# Doing only for the job title column using ffill.\n",
    "data.job_title.fillna(method='ffill',inplace=True)"
   ]
  },
  {
   "cell_type": "code",
   "execution_count": 10,
   "id": "2dd046f7",
   "metadata": {
    "ExecuteTime": {
     "end_time": "2023-07-30T13:12:45.968130Z",
     "start_time": "2023-07-30T13:12:45.954135Z"
    }
   },
   "outputs": [],
   "source": [
    "# Doing only for the tenure column using bfill.\n",
    "data.DOB.fillna(method='bfill',inplace=True)"
   ]
  },
  {
   "cell_type": "markdown",
   "id": "6a59d598",
   "metadata": {},
   "source": [
    "### 3. Mean/Median/Mode Imputation:"
   ]
  },
  {
   "cell_type": "markdown",
   "id": "a96068dc",
   "metadata": {},
   "source": [
    "* Missing values in a dataset are typically filled using mean, median, and mode imputation. Let's explore it\n",
    "### *`Mean Imputation`*\n",
    "\n",
    "#### Advantages:\n",
    "- It is easy to implement mean imputation, making it computationally efficient.\n",
    "- The mean and variance of the data can be preserved by imputed missing values with the mean.\n",
    "- Numerical data: Mean imputation works well for numerical data.\n",
    "\n",
    "#### Disadvantages:\n",
    "1. Underestimation of true variability\n",
    "2. Impact on correlation structure\n",
    "3. Sensitivity to outliers\n",
    "\n",
    "### *`Median Imputation`*\n",
    "\n",
    "#### Advantages:\n",
    "1. Robustness against outliers\n",
    "2. Maintains data order\n",
    "3. Applicable to skewed data\n",
    "\n",
    "#### Disadvantages:\n",
    "1. Ignores data distribution\n",
    "2. Lack of variability preservation\n",
    "\n",
    "### *`Mode Imputation`*\n",
    "\n",
    "#### Advantages:\n",
    "1. Suitable for categorical data\n",
    "2. Preserves data categories\n",
    "\n",
    "#### Disadvantages:\n",
    "\n",
    "1. Limited applicability to categorical data\n",
    "\n",
    "2. Biased representation of the most frequent category"
   ]
  },
  {
   "cell_type": "markdown",
   "id": "73715742",
   "metadata": {},
   "source": [
    "- For gender column beacuse it is categorical column we can use mode to fill the missing values."
   ]
  },
  {
   "cell_type": "code",
   "execution_count": 11,
   "id": "28b9f521",
   "metadata": {
    "ExecuteTime": {
     "end_time": "2023-07-30T13:12:47.078669Z",
     "start_time": "2023-07-30T13:12:47.067671Z"
    }
   },
   "outputs": [
    {
     "data": {
      "text/plain": [
       "48.89"
      ]
     },
     "execution_count": 11,
     "metadata": {},
     "output_type": "execute_result"
    }
   ],
   "source": [
    "# for past_3_years_bike_related_purchases column we can go with mean and median.\n",
    "data.past_3_years_bike_related_purchases.mean()"
   ]
  },
  {
   "cell_type": "code",
   "execution_count": 12,
   "id": "cfd9b133",
   "metadata": {
    "ExecuteTime": {
     "end_time": "2023-07-30T13:12:47.545210Z",
     "start_time": "2023-07-30T13:12:47.537209Z"
    }
   },
   "outputs": [],
   "source": [
    "data.past_3_years_bike_related_purchases.fillna(data.past_3_years_bike_related_purchases.mean(), inplace=True)"
   ]
  },
  {
   "cell_type": "code",
   "execution_count": 13,
   "id": "6341812a",
   "metadata": {
    "ExecuteTime": {
     "end_time": "2023-07-30T13:12:47.933199Z",
     "start_time": "2023-07-30T13:12:47.912780Z"
    }
   },
   "outputs": [
    {
     "data": {
      "text/plain": [
       "48.0"
      ]
     },
     "execution_count": 13,
     "metadata": {},
     "output_type": "execute_result"
    }
   ],
   "source": [
    "data.past_3_years_bike_related_purchases.median()"
   ]
  },
  {
   "cell_type": "code",
   "execution_count": 14,
   "id": "60476b87",
   "metadata": {
    "ExecuteTime": {
     "end_time": "2023-07-30T13:12:48.215028Z",
     "start_time": "2023-07-30T13:12:48.195132Z"
    }
   },
   "outputs": [],
   "source": [
    "data.past_3_years_bike_related_purchases.fillna(data.past_3_years_bike_related_purchases.median(), inplace=True)"
   ]
  },
  {
   "cell_type": "code",
   "execution_count": 15,
   "id": "fb4a0e48",
   "metadata": {
    "ExecuteTime": {
     "end_time": "2023-07-30T13:12:48.735651Z",
     "start_time": "2023-07-30T13:12:48.719650Z"
    }
   },
   "outputs": [
    {
     "data": {
      "text/plain": [
       "'Female'"
      ]
     },
     "execution_count": 15,
     "metadata": {},
     "output_type": "execute_result"
    }
   ],
   "source": [
    "# from Gender taking out the most repeated category.\n",
    "data.gender.mode()[0]"
   ]
  },
  {
   "cell_type": "code",
   "execution_count": 16,
   "id": "adcfe9a3",
   "metadata": {
    "ExecuteTime": {
     "end_time": "2023-07-30T13:12:49.143521Z",
     "start_time": "2023-07-30T13:12:49.128032Z"
    }
   },
   "outputs": [],
   "source": [
    "data.gender.fillna(data.gender.mode()[0], inplace=True)"
   ]
  },
  {
   "cell_type": "markdown",
   "id": "9ce0060b",
   "metadata": {},
   "source": [
    "## 🌟Observations:\n",
    "- While filling with mean and median we should check the **`distribution of data, skewness of the data.`**\n",
    "- Mainly if there are any outliers in the data so choose wisely because mean is affected by outliers in that median is prefered.\n",
    "- we can also visualize how the mean and median is distributed by distribution plots like histplot, kdeplot etc.\n",
    "### There is an automatic Imputation method for all mean, median, mode that is simpleImputer(). It handles the both numerical and categorical data."
   ]
  },
  {
   "cell_type": "markdown",
   "id": "a3f07198",
   "metadata": {},
   "source": [
    "### 4. K-Nearest Neighbors (KNN) Imputation:"
   ]
  },
  {
   "cell_type": "code",
   "execution_count": 25,
   "id": "d7098970",
   "metadata": {
    "ExecuteTime": {
     "end_time": "2023-07-30T13:23:59.399460Z",
     "start_time": "2023-07-30T13:23:59.381459Z"
    }
   },
   "outputs": [],
   "source": [
    "from sklearn.impute import KNNImputer\n",
    "imputer = KNNImputer(n_neighbors=5)\n",
    "data.tenure = imputer.fit_transform(data[['tenure']])"
   ]
  },
  {
   "cell_type": "markdown",
   "id": "0e931853",
   "metadata": {},
   "source": [
    "* KNN Imputer works only for numerical data.\n",
    "* KNN Imputer uses internally K-Nearest Neighbors algorithm operates on distances and calculates the similarity between data points based on their numerical feature values. \n",
    "* It is not suitable for imputing missing values in categorical data or any other non-numeric data types."
   ]
  },
  {
   "cell_type": "code",
   "execution_count": null,
   "id": "f0236273",
   "metadata": {},
   "outputs": [],
   "source": []
  }
 ],
 "metadata": {
  "kernelspec": {
   "display_name": "Python 3 (ipykernel)",
   "language": "python",
   "name": "python3"
  },
  "language_info": {
   "codemirror_mode": {
    "name": "ipython",
    "version": 3
   },
   "file_extension": ".py",
   "mimetype": "text/x-python",
   "name": "python",
   "nbconvert_exporter": "python",
   "pygments_lexer": "ipython3",
   "version": "3.9.16"
  }
 },
 "nbformat": 4,
 "nbformat_minor": 5
}
